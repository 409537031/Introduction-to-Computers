{
  "nbformat": 4,
  "nbformat_minor": 0,
  "metadata": {
    "colab": {
      "provenance": [],
      "authorship_tag": "ABX9TyNiwo62ivxLJo8u17Zdv83y",
      "include_colab_link": true
    },
    "kernelspec": {
      "name": "python3",
      "display_name": "Python 3"
    },
    "language_info": {
      "name": "python"
    }
  },
  "cells": [
    {
      "cell_type": "markdown",
      "metadata": {
        "id": "view-in-github",
        "colab_type": "text"
      },
      "source": [
        "<a href=\"https://colab.research.google.com/github/409537031/Introduction-to-Computers/blob/main/0517.ipynb\" target=\"_parent\"><img src=\"https://colab.research.google.com/assets/colab-badge.svg\" alt=\"Open In Colab\"/></a>"
      ]
    },
    {
      "cell_type": "code",
      "source": [
        "score=int(input(\"score:\"))\n",
        "if score >= 90:\n",
        "  print('Grade is:A')\n",
        "elif score >= 80:\n",
        "  print('Grade is:B')\n",
        "elif score >= 70:\n",
        "  print('Grade is:C')\n",
        "elif score >= 60:\n",
        "  print('Grade is:D')\n",
        "else:\n",
        "  print('Grade is:F')"
      ],
      "metadata": {
        "colab": {
          "base_uri": "https://localhost:8080/"
        },
        "id": "iRTVuvaIyTmR",
        "outputId": "ed9a83d5-4a44-4902-b0cb-5bfc475f98d6"
      },
      "execution_count": 1,
      "outputs": [
        {
          "output_type": "stream",
          "name": "stdout",
          "text": [
            "score:50\n",
            "Grade is:F\n"
          ]
        }
      ]
    },
    {
      "cell_type": "code",
      "source": [
        "rain=input(\"今天會下雨嗎？\")\n",
        "if(rain==\"Y\" or rain==\"y\"):\n",
        "  print(\"出門記得帶傘！\")\n",
        "elif(rain==\"N\" or rain==\"n\"):\n",
        "  print(\"不用帶傘\")\n",
        "else:\n",
        "  print(\"請重新輸入\")\n"
      ],
      "metadata": {
        "colab": {
          "base_uri": "https://localhost:8080/"
        },
        "id": "O_yrg3je5Tmo",
        "outputId": "33af59b9-cb4d-43a0-8acd-ae1b12d626bc"
      },
      "execution_count": 1,
      "outputs": [
        {
          "output_type": "stream",
          "name": "stdout",
          "text": [
            "今天會下雨嗎？Y\n",
            "出門記得帶傘！\n"
          ]
        }
      ]
    },
    {
      "cell_type": "code",
      "source": [
        "t=float(input(\"請輸入體溫：\"))\n",
        "if (t>=37.5):\n",
        "  print(\"體溫過高！\")\n",
        "elif(t>=37):\n",
        "  print(\"體溫略高！\")\n",
        "elif(t>=34):\n",
        "  print(\"體溫正常！\")\n",
        "else:\n",
        "  print(\"體溫異常，請重新量測！\")"
      ],
      "metadata": {
        "colab": {
          "base_uri": "https://localhost:8080/"
        },
        "id": "Z2x8oXx97ABr",
        "outputId": "75d5f76b-85f5-457b-e339-abc4a3d00e05"
      },
      "execution_count": 7,
      "outputs": [
        {
          "output_type": "stream",
          "name": "stdout",
          "text": [
            "請輸入體溫：33\n",
            "體溫異常，請重新量測！\n"
          ]
        }
      ]
    },
    {
      "cell_type": "code",
      "source": [
        "g=int(input(\"請輸入成績：\"))\n",
        "if g>=90:\n",
        "  print(\"A\")\n",
        "elif g>=80:\n",
        "  print(\"B\")\n",
        "elif g>=70:\n",
        "  print(\"C\")\n",
        "elif g>=60:\n",
        "  print(\"D\")\n",
        "else:\n",
        "  print(\"E\")"
      ],
      "metadata": {
        "colab": {
          "base_uri": "https://localhost:8080/"
        },
        "id": "3iwaZXnn9amj",
        "outputId": "152ec6e4-ef5e-4c8c-9177-1da950d2e8c8"
      },
      "execution_count": 10,
      "outputs": [
        {
          "output_type": "stream",
          "name": "stdout",
          "text": [
            "請輸入成績：50\n",
            "E\n"
          ]
        }
      ]
    },
    {
      "cell_type": "code",
      "source": [
        "m=int(input(\"請輸入月份：\"))\n",
        "if m>=0 and m<=12:\n",
        "  if m==3 or m==4 or m==5:\n",
        "    print(\"{}月是春天！\".format(m))\n",
        "  elif m==6 or m==7 or m==8:\n",
        "    print(\"{}月是夏天！\".format(m))\n",
        "  elif m==9 or m==10 or m==11:\n",
        "    print(\"{}月是秋天！\".format(m))\n",
        "  else:\n",
        "    print(\"{}月是冬天！\".format(m))\n",
        "else:\n",
        "  print(\"月份不在範圍內！\")"
      ],
      "metadata": {
        "colab": {
          "base_uri": "https://localhost:8080/"
        },
        "id": "BXStleaH-hvr",
        "outputId": "2b9ece5e-5f21-475c-ab83-c692150f087f"
      },
      "execution_count": 15,
      "outputs": [
        {
          "output_type": "stream",
          "name": "stdout",
          "text": [
            "請輸入月份：6\n",
            "6月是夏天！\n"
          ]
        }
      ]
    },
    {
      "cell_type": "code",
      "source": [
        "i=int(input(\"請輸入今年收入淨額：\"))\n",
        "if i>=2000000:\n",
        "  t=i*0.3\n",
        "  print(\"付稅金額：{} 元\".format(t))\n",
        "elif i>=1000000:\n",
        "  t=i*0.21\n",
        "  print(\"付稅金額：{} 元\".format(t))\n",
        "elif i>=600000:\n",
        "  t=i*0.13\n",
        "  print(\"付稅金額：{} 元\".format(t))\n",
        "elif i>=300000:\n",
        "  t=i*0.06\n",
        "  print(\"付稅金額：{} 元\".format(t))\n",
        "else:\n",
        "  print(\"付稅金額：0 元\")"
      ],
      "metadata": {
        "colab": {
          "base_uri": "https://localhost:8080/"
        },
        "id": "DkRtY_VaARks",
        "outputId": "5aa69926-849f-4864-8539-9d239363d380"
      },
      "execution_count": 19,
      "outputs": [
        {
          "output_type": "stream",
          "name": "stdout",
          "text": [
            "請輸入今年收入淨額：2000000\n",
            "付稅金額：600000.0 元\n"
          ]
        }
      ]
    }
  ]
}